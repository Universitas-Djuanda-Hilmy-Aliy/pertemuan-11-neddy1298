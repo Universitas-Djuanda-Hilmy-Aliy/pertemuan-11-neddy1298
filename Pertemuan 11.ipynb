{
 "cells": [
  {
   "cell_type": "markdown",
   "metadata": {},
   "source": [
    "<b>Overfitting</b> \n",
    "\n",
    "definisi: sebuah fenomena dimana model yang dugunakan terlalu cocok atau sesuai dengan data training sehingga kehilangan kemampuan untuk melakukan deteksi pada data baru (data testing) \n",
    "\n",
    "contoh: ketika hasil training bagus, namun hasil testing buruk\n",
    "\n",
    "Beberapa karakteristik utama terjadinya overfitting:\n",
    "\n",
    "1. Performanya tinggi pada data training, namun performanya rendah pada data testing\n",
    "2. Model yang dibuat terlalu rumit\n",
    "\n",
    "Penyebab Overfitting:\n",
    "\n",
    "1. Data training terlalu sedikit\n",
    "2. Datanya tidak beragam\n",
    "3. Model terlalu kompleks\n",
    "4. Proses training terlalu lama\n",
    "\n",
    "Cara mengatasi Overfitting:\n",
    "\n",
    "1. Sediakan data yang banyak\n",
    "2. Menggunakan Dropout\n",
    "3. Cross Validation"
   ]
  },
  {
   "cell_type": "code",
   "execution_count": 1,
   "metadata": {},
   "outputs": [],
   "source": [
    "import matplotlib.pyplot as plt\n",
    "from tensorflow.keras.datasets import fashion_mnist\n",
    "\n",
    "(train_images, train_labels), (test_images, test_labels) = fashion_mnist.load_data()"
   ]
  },
  {
   "cell_type": "code",
   "execution_count": 2,
   "metadata": {},
   "outputs": [
    {
     "name": "stdout",
     "output_type": "stream",
     "text": [
      "Ukuran Citra Train (60000, 28, 28)\n",
      "Ukuran Label Train (60000,)\n",
      "Ukuran Citra Test (10000, 28, 28)\n",
      "Ukuran Label Test (10000,)\n"
     ]
    }
   ],
   "source": [
    "print(\"Ukuran Citra Train\", train_images.shape)\n",
    "print(\"Ukuran Label Train\", train_labels.shape)\n",
    "\n",
    "print(\"Ukuran Citra Test\", test_images.shape)\n",
    "print(\"Ukuran Label Test\", test_labels.shape)"
   ]
  },
  {
   "cell_type": "code",
   "execution_count": 3,
   "metadata": {},
   "outputs": [
    {
     "name": "stdout",
     "output_type": "stream",
     "text": [
      "{0, 1, 2, 3, 4, 5, 6, 7, 8, 9}\n"
     ]
    }
   ],
   "source": [
    "print(set(train_labels))"
   ]
  },
  {
   "cell_type": "code",
   "execution_count": 4,
   "metadata": {},
   "outputs": [],
   "source": [
    "train_images = train_images.reshape((60000, 28 * 28))\n",
    "train_images = train_images.astype('float32') / 255\n",
    "\n",
    "test_images = test_images.reshape((10000, 28 * 28))\n",
    "test_images = test_images.astype('float32') / 255"
   ]
  },
  {
   "cell_type": "code",
   "execution_count": 5,
   "metadata": {},
   "outputs": [],
   "source": [
    "# Arsitektur modelnya\n",
    "\n",
    "import tensorflow as tf\n",
    "import numpy as np\n",
    "\n",
    "model = tf.keras.Sequential([\n",
    "    tf.keras.layers.Dense(512, activation='relu'),\n",
    "    tf.keras.layers.Dense(10, activation='sigmoid')\n",
    "])"
   ]
  },
  {
   "cell_type": "code",
   "execution_count": 6,
   "metadata": {},
   "outputs": [],
   "source": [
    "# Compile modelnya\n",
    "model.compile(optimizer='rmsprop',\n",
    "              loss='sparse_categorical_crossentropy',\n",
    "              metrics=['accuracy'])"
   ]
  },
  {
   "cell_type": "code",
   "execution_count": 7,
   "metadata": {},
   "outputs": [],
   "source": [
    "sample_train_images = train_images[:100]\n",
    "sample_train_lebels = train_labels[:100]"
   ]
  },
  {
   "cell_type": "code",
   "execution_count": 8,
   "metadata": {},
   "outputs": [
    {
     "data": {
      "text/plain": [
       "(100, 784)"
      ]
     },
     "execution_count": 8,
     "metadata": {},
     "output_type": "execute_result"
    }
   ],
   "source": [
    "sample_train_images.shape"
   ]
  },
  {
   "cell_type": "code",
   "execution_count": 9,
   "metadata": {},
   "outputs": [
    {
     "name": "stdout",
     "output_type": "stream",
     "text": [
      "Epoch 1/10\n"
     ]
    },
    {
     "name": "stdout",
     "output_type": "stream",
     "text": [
      "1/1 [==============================] - 0s 453ms/step - loss: 2.4189 - accuracy: 0.0900\n",
      "Epoch 2/10\n",
      "1/1 [==============================] - 0s 12ms/step - loss: 2.0064 - accuracy: 0.3700\n",
      "Epoch 3/10\n",
      "1/1 [==============================] - 0s 11ms/step - loss: 1.8216 - accuracy: 0.5500\n",
      "Epoch 4/10\n",
      "1/1 [==============================] - 0s 10ms/step - loss: 1.6067 - accuracy: 0.4700\n",
      "Epoch 5/10\n",
      "1/1 [==============================] - 0s 11ms/step - loss: 1.2939 - accuracy: 0.6000\n",
      "Epoch 6/10\n",
      "1/1 [==============================] - 0s 11ms/step - loss: 0.8523 - accuracy: 0.7000\n",
      "Epoch 7/10\n",
      "1/1 [==============================] - 0s 9ms/step - loss: 0.7542 - accuracy: 0.8100\n",
      "Epoch 8/10\n",
      "1/1 [==============================] - 0s 9ms/step - loss: 0.7500 - accuracy: 0.7700\n",
      "Epoch 9/10\n",
      "1/1 [==============================] - 0s 11ms/step - loss: 0.8027 - accuracy: 0.8100\n",
      "Epoch 10/10\n",
      "1/1 [==============================] - 0s 11ms/step - loss: 0.7413 - accuracy: 0.8300\n"
     ]
    },
    {
     "data": {
      "text/plain": [
       "<keras.src.callbacks.History at 0x1e1e39f7910>"
      ]
     },
     "execution_count": 9,
     "metadata": {},
     "output_type": "execute_result"
    }
   ],
   "source": [
    "model.fit(\n",
    "    sample_train_images, sample_train_lebels, \n",
    "    epochs=10,\n",
    "    batch_size=128\n",
    ")"
   ]
  },
  {
   "cell_type": "code",
   "execution_count": 10,
   "metadata": {},
   "outputs": [
    {
     "name": "stdout",
     "output_type": "stream",
     "text": [
      "accuracy: 0.66\n"
     ]
    }
   ],
   "source": [
    "prediksi = model(test_images)\n",
    "prediksi = prediksi.numpy() # Supaya hasilnya array\n",
    "prediksi_label = np.argmax(prediksi, axis=1)\n",
    "prediksi_betul = prediksi_label == test_labels\n",
    "print(f\"accuracy: {prediksi_betul.mean():.2f}\")"
   ]
  },
  {
   "cell_type": "markdown",
   "metadata": {},
   "source": [
    "Pembuatan model yang lebih deep"
   ]
  },
  {
   "cell_type": "code",
   "execution_count": 11,
   "metadata": {},
   "outputs": [],
   "source": [
    "# Arsitektur modelnya\n",
    "\n",
    "import tensorflow as tf\n",
    "import numpy as np\n",
    "\n",
    "model_kedua = tf.keras.Sequential([\n",
    "    tf.keras.layers.Dense(512, activation='relu'),\n",
    "    tf.keras.layers.Dropout(0.5),\n",
    "    tf.keras.layers.Dense(256, activation='relu'),\n",
    "    tf.keras.layers.Dropout(0.5),\n",
    "    tf.keras.layers.Dense(128, activation='relu'),\n",
    "    tf.keras.layers.Dense(64, activation='relu'),\n",
    "    tf.keras.layers.Dense(32, activation='relu'),\n",
    "    tf.keras.layers.Dense(10, activation='sigmoid')\n",
    "])"
   ]
  },
  {
   "cell_type": "code",
   "execution_count": 12,
   "metadata": {},
   "outputs": [],
   "source": [
    "model_kedua.compile(optimizer='rmsprop', loss='sparse_categorical_crossentropy', metrics=['accuracy'])"
   ]
  },
  {
   "cell_type": "code",
   "execution_count": 13,
   "metadata": {},
   "outputs": [
    {
     "name": "stdout",
     "output_type": "stream",
     "text": [
      "Epoch 1/10\n",
      "235/235 [==============================] - 4s 12ms/step - loss: 0.8048 - accuracy: 0.6953\n",
      "Epoch 2/10\n",
      "235/235 [==============================] - 3s 12ms/step - loss: 0.5124 - accuracy: 0.8135\n",
      "Epoch 3/10\n",
      "235/235 [==============================] - 3s 13ms/step - loss: 0.4597 - accuracy: 0.8335\n",
      "Epoch 4/10\n",
      "235/235 [==============================] - 3s 13ms/step - loss: 0.4271 - accuracy: 0.8458\n",
      "Epoch 5/10\n",
      "235/235 [==============================] - 3s 12ms/step - loss: 0.4080 - accuracy: 0.8533\n",
      "Epoch 6/10\n",
      "235/235 [==============================] - 3s 13ms/step - loss: 0.3904 - accuracy: 0.8591\n",
      "Epoch 7/10\n",
      "235/235 [==============================] - 3s 12ms/step - loss: 0.3806 - accuracy: 0.8632\n",
      "Epoch 8/10\n",
      "235/235 [==============================] - 3s 12ms/step - loss: 0.3669 - accuracy: 0.8658\n",
      "Epoch 9/10\n",
      "235/235 [==============================] - 3s 13ms/step - loss: 0.3618 - accuracy: 0.8685\n",
      "Epoch 10/10\n",
      "235/235 [==============================] - 3s 12ms/step - loss: 0.3530 - accuracy: 0.8724\n"
     ]
    },
    {
     "data": {
      "text/plain": [
       "<keras.src.callbacks.History at 0x1e1e3ccb850>"
      ]
     },
     "execution_count": 13,
     "metadata": {},
     "output_type": "execute_result"
    }
   ],
   "source": [
    "model_kedua.fit(train_images, train_labels, epochs=10, batch_size=256)"
   ]
  },
  {
   "cell_type": "code",
   "execution_count": 14,
   "metadata": {},
   "outputs": [
    {
     "name": "stdout",
     "output_type": "stream",
     "text": [
      "Model: \"sequential_1\"\n",
      "_________________________________________________________________\n",
      " Layer (type)                Output Shape              Param #   \n",
      "=================================================================\n",
      " dense_2 (Dense)             (None, 512)               401920    \n",
      "                                                                 \n",
      " dropout (Dropout)           (None, 512)               0         \n",
      "                                                                 \n",
      " dense_3 (Dense)             (None, 256)               131328    \n",
      "                                                                 \n",
      " dropout_1 (Dropout)         (None, 256)               0         \n",
      "                                                                 \n",
      " dense_4 (Dense)             (None, 128)               32896     \n",
      "                                                                 \n",
      " dense_5 (Dense)             (None, 64)                8256      \n",
      "                                                                 \n",
      " dense_6 (Dense)             (None, 32)                2080      \n",
      "                                                                 \n",
      " dense_7 (Dense)             (None, 10)                330       \n",
      "                                                                 \n",
      "=================================================================\n",
      "Total params: 576810 (2.20 MB)\n",
      "Trainable params: 576810 (2.20 MB)\n",
      "Non-trainable params: 0 (0.00 Byte)\n",
      "_________________________________________________________________\n"
     ]
    }
   ],
   "source": [
    "model_kedua.summary()"
   ]
  },
  {
   "cell_type": "code",
   "execution_count": 15,
   "metadata": {},
   "outputs": [
    {
     "name": "stdout",
     "output_type": "stream",
     "text": [
      "accuracy: 0.87\n"
     ]
    }
   ],
   "source": [
    "prediksi = model_kedua(test_images)\n",
    "prediksi = prediksi.numpy() # Supaya hasilnya array\n",
    "prediksi_label = np.argmax(prediksi, axis=1)\n",
    "prediksi_betul = prediksi_label == test_labels\n",
    "print(f\"accuracy: {prediksi_betul.mean():.2f}\")"
   ]
  },
  {
   "cell_type": "markdown",
   "metadata": {},
   "source": [
    "Tujuan Dropout adalah untuk mencegah terjadinya overvitting"
   ]
  },
  {
   "cell_type": "markdown",
   "metadata": {},
   "source": [
    "Pretrained Model (Model yang sudah dilatih)"
   ]
  },
  {
   "cell_type": "code",
   "execution_count": 18,
   "metadata": {},
   "outputs": [],
   "source": [
    "model_kedua.save('model_neddy.h5')"
   ]
  }
 ],
 "metadata": {
  "kernelspec": {
   "display_name": "Python 3",
   "language": "python",
   "name": "python3"
  },
  "language_info": {
   "codemirror_mode": {
    "name": "ipython",
    "version": 3
   },
   "file_extension": ".py",
   "mimetype": "text/x-python",
   "name": "python",
   "nbconvert_exporter": "python",
   "pygments_lexer": "ipython3",
   "version": "3.10.7"
  }
 },
 "nbformat": 4,
 "nbformat_minor": 2
}
